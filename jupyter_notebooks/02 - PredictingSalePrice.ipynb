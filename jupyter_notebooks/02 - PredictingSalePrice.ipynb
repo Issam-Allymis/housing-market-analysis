{
 "cells": [
  {
   "cell_type": "markdown",
   "metadata": {},
   "source": [
    "# Objectives\n",
    "* The client is interested in discovering how the house attributes correlate with the sale price. Therefore, the client expects data visualisations of the correlated variables against the sale price to show that.\n",
    "\n",
    "* The client is interested in predicting the house sale price from her four inherited houses and any other house in Ames, Iowa.\n",
    "\n",
    "## Change working directory\n",
    "We need to change the working directory from its current folder to its parent folder\n",
    "\n",
    "  * We access the current directory with os.getcwd()"
   ]
  },
  {
   "cell_type": "code",
   "execution_count": null,
   "metadata": {},
   "outputs": [],
   "source": [
    "import os\n",
    "current_dir = os.getcwd()\n",
    "current_dir"
   ]
  },
  {
   "cell_type": "markdown",
   "metadata": {},
   "source": [
    "We want to make the parent of the current directory the new current directory\n",
    "\n",
    "    * os.path.dirname() gets the parent directory\n",
    "    * os.chir() defines the new current directory"
   ]
  },
  {
   "cell_type": "code",
   "execution_count": null,
   "metadata": {},
   "outputs": [],
   "source": [
    "os.chdir(os.path.dirname(current_dir))\n",
    "print(\"You set a new current directory\")"
   ]
  },
  {
   "cell_type": "markdown",
   "metadata": {},
   "source": [
    "Confirm the new current directory"
   ]
  },
  {
   "cell_type": "code",
   "execution_count": null,
   "metadata": {},
   "outputs": [],
   "source": [
    "current_dir = os.getcwd()\n",
    "current_dir"
   ]
  },
  {
   "cell_type": "markdown",
   "metadata": {},
   "source": [
    "# Import packages"
   ]
  },
  {
   "cell_type": "code",
   "execution_count": null,
   "metadata": {},
   "outputs": [],
   "source": [
    "# import packages\n",
    "import pandas as pd\n",
    "import numpy as np\n",
    "import seaborn as sns\n",
    "from feature_engine.imputation import CategoricalImputer\n",
    "from feature_engine.encoding import OneHotEncoder"
   ]
  },
  {
   "cell_type": "markdown",
   "metadata": {},
   "source": [
    "# Load Dataset"
   ]
  },
  {
   "cell_type": "code",
   "execution_count": null,
   "metadata": {},
   "outputs": [],
   "source": [
    "# Load dataset\n",
    "df = pd.read_csv(\"/workspace/housing-market-analysis/outputs/datasets/collection/house-price-2021.csv\")\n",
    "df = df.sample(frac=0.2, random_state=101)\n",
    "print(df.shape)\n",
    "df.head(5)\n",
    "\n",
    "#X = df.drop(columns=['SalePrice'])  # Extract features\n",
    "#y = df['SalePrice']  # Extract target variable\n",
    "\n",
    "#print(df.columns)\n",
    "#df = df.fillna(0)\n",
    "#df.info()\n"
   ]
  },
  {
   "cell_type": "markdown",
   "metadata": {},
   "source": [
    "---"
   ]
  },
  {
   "cell_type": "markdown",
   "metadata": {},
   "source": [
    "# Data Exploration"
   ]
  },
  {
   "cell_type": "code",
   "execution_count": null,
   "metadata": {},
   "outputs": [],
   "source": [
    "from ydata_profiling import ProfileReport\n",
    "pandas_report = ProfileReport(df=df, minimal=True)\n",
    "pandas_report.to_notebook_iframe()"
   ]
  },
  {
   "cell_type": "markdown",
   "metadata": {},
   "source": [
    "# Correlation Study\n",
    "\n",
    "* Used OneHotEncoder to transform categorical variables into a format that can be provided to machine learning algorithms."
   ]
  },
  {
   "cell_type": "code",
   "execution_count": null,
   "metadata": {},
   "outputs": [],
   "source": [
    "from feature_engine.encoding import OneHotEncoder\n",
    "encoder = OneHotEncoder(variables=df.columns[df.dtypes=='object'].to_list(), drop_last=False)\n",
    "df_ohe = encoder.fit_transform(df)\n",
    "print(df_ohe.shape)\n",
    "df_ohe.head(6)"
   ]
  },
  {
   "cell_type": "markdown",
   "metadata": {},
   "source": [
    "* Checked information for reassurance"
   ]
  },
  {
   "cell_type": "code",
   "execution_count": null,
   "metadata": {},
   "outputs": [],
   "source": [
    "df_ohe.info()"
   ]
  },
  {
   "cell_type": "markdown",
   "metadata": {},
   "source": [
    "Use .corr() for **spearman** and **pearson** methods, and investigate the top n correlations\n",
    "\n",
    "    * We know this command returns a pandas series and the first item is the correlation between SalePrice and SalePrice, which happens to be 1, so we exclude that with [1:]\n",
    "    * We sort values considering the absolute value, by setting key=abs"
   ]
  },
  {
   "cell_type": "code",
   "execution_count": null,
   "metadata": {},
   "outputs": [],
   "source": [
    "corr_spearman = df_ohe.corr(method='spearman')['SalePrice'].sort_values(key=abs, ascending=False)[1:].head(10)\n",
    "corr_spearman"
   ]
  },
  {
   "cell_type": "markdown",
   "metadata": {},
   "source": [
    "Now we do the same for **pearson**"
   ]
  },
  {
   "cell_type": "code",
   "execution_count": null,
   "metadata": {},
   "outputs": [],
   "source": [
    "corr_pearson = df_ohe.corr(method='pearson')['SalePrice'].sort_values(key=abs, ascending=False)[1:].head(10)\n",
    "corr_pearson"
   ]
  },
  {
   "cell_type": "markdown",
   "metadata": {},
   "source": [
    "In both methods, we observe correlations between Churn and individual variables to be moderate or strong. \n",
    "    \n",
    "    * OverallQual being the strongest among both methods.\n",
    "\n",
    "    * GarageYrBlt and GarageFinish_Unf are the weakest links in both methods.\n",
    "\n",
    "    "
   ]
  },
  {
   "cell_type": "markdown",
   "metadata": {},
   "source": [
    "* Ideally, we pursue strong correlation levels. Reason being is the available dataset may have limited information or may not capture all relevant factors influencing the variables of interest.\n",
    "\n",
    "\n",
    "The top 8 correlation levels are considered at df_ohe and will study associated variable at df"
   ]
  },
  {
   "cell_type": "code",
   "execution_count": null,
   "metadata": {},
   "outputs": [],
   "source": [
    "top_n = 8\n",
    "set(corr_pearson[:top_n].index.to_list() + corr_spearman[:top_n].index.to_list())"
   ]
  },
  {
   "cell_type": "markdown",
   "metadata": {},
   "source": [
    "Therefore, in our analysis of the DataFrame (df). Moreover, we will explore the following variables to determine whether:\n",
    "\n",
    "* A higher SalePrice is typically associated with the First Floor square feet  having a larger surface area **['1stFlrSF']**.\n",
    "\n",
    "* A higher SalePrice is typically associated with a larger Size of garage in square feet **['GarageArea']**.\n",
    "* A higher SalePrice is typically associated with the year the garage was built **['GarageYrBlt']**.\n",
    "* A higher SalePrice is typically associated with a larger Above grade (ground) living area in square feet **['GrLivArea']**.\n",
    "* A higher SalePrice is typically associated with a higher Rate of the overall material and finish of the house **['OverallQual']**.\n",
    "* A higher SalePrice is typically associated with the total square feet of the basement area **['TotalBsmtSF']**.\n",
    "* A higher SalePrice is typically associated with the original construction date **['YearBuilt']**. \n",
    "* A higher SalePrice is typically associated with the remodel date **['YearRemodAdd']**."
   ]
  },
  {
   "cell_type": "code",
   "execution_count": null,
   "metadata": {},
   "outputs": [],
   "source": [
    "vars_to_study = ['1stFlrSF', 'GarageArea', 'GarageYrBlt', 'GrLivArea', 'OverallQual', 'TotalBsmtSF', 'YearBuilt', 'YearRemodAdd']\n",
    "vars_to_study"
   ]
  },
  {
   "cell_type": "markdown",
   "metadata": {},
   "source": [
    "# Exploratory Data Analysis (EDA) on selected variables"
   ]
  },
  {
   "cell_type": "code",
   "execution_count": null,
   "metadata": {},
   "outputs": [],
   "source": [
    "df_expda = df.filter(vars_to_study + ['SalePrice']) # Filter out target variable and integrate to the feature variables\n",
    "df_expda.head(5)"
   ]
  },
  {
   "cell_type": "markdown",
   "metadata": {},
   "source": [
    "# Variables Distribution by SalePrice\n",
    "A visual ditribution representation (numerical) coloured by SalePrice"
   ]
  },
  {
   "cell_type": "code",
   "execution_count": null,
   "metadata": {},
   "outputs": [],
   "source": [
    "import matplotlib.pyplot as plt\n",
    "from IPython.display import Image, display\n",
    "sns.set_style('whitegrid')\n",
    "\n",
    "def numerical_plot(df, col, target_var):\n",
    "    plt.figure(figsize=(10, 5))\n",
    "    sns.scatterplot(data=df, x=col, y=target_var, hue=target_var)\n",
    "    plt.title(f\"{col}\", fontsize=15, y=1.5)\n",
    "    plt.show()\n",
    "    plt.savefig('numerical_plot.png')\n",
    "    plt.close()\n",
    "\n",
    "\n",
    "target_var = \"SalePrice\"\n",
    "# f_var = \"OverallQual\"\n",
    "for col in vars_to_study:\n",
    "    numerical_plot(df_expda, col, target_var)\n",
    "    print(\"\\n\\n\")\n",
    "\n",
    "\n",
    "plot_path = 'numerical_plot.png'\n",
    "\n",
    "numerical_image = Image(plot_path)\n",
    "\n",
    "display(numerical_image)\n"
   ]
  },
  {
   "cell_type": "markdown",
   "metadata": {},
   "source": [
    "# Conclusions and next steps\n",
    "\n",
    "The plots and correlations interpretation coverage.\n",
    "\n",
    "* A higher SalePrice is typically associated with the First Floor square feet  having a larger surface area **['1stFlrSF']**.\n",
    "\n",
    "* A higher SalePrice is typically associated with a larger Size of garage in square feet **['GarageArea']**.\n",
    "* A higher SalePrice is typically associated with the year the garage was built **['GarageYrBlt']**.\n",
    "* A higher SalePrice is typically associated with a larger Above grade (ground) living area in square feet **['GrLivArea']**.\n",
    "* A higher SalePrice is typically associated with a higher Rate of the overall material and finish of the house **['OverallQual']**.\n",
    "* A higher SalePrice is typically associated with the total square feet of the basement area **['TotalBsmtSF']**.\n",
    "* A higher SalePrice is typically associated with the original construction date **['YearBuilt']**. \n",
    "* A higher SalePrice is typically associated with the remodel date **['YearRemodAdd']**."
   ]
  },
  {
   "cell_type": "code",
   "execution_count": null,
   "metadata": {},
   "outputs": [],
   "source": [
    "import os\n",
    "try:\n",
    "  os.makedirs(name='outputs/datasets/cleaned') # create outputs/datasets/collection folder\n",
    "except Exception as e:\n",
    "  print(e)"
   ]
  },
  {
   "cell_type": "markdown",
   "metadata": {},
   "source": []
  }
 ],
 "metadata": {
  "kernelspec": {
   "display_name": "Python 3",
   "language": "python",
   "name": "python3"
  },
  "language_info": {
   "codemirror_mode": {
    "name": "ipython",
    "version": 3
   },
   "file_extension": ".py",
   "mimetype": "text/x-python",
   "name": "python",
   "nbconvert_exporter": "python",
   "pygments_lexer": "ipython3",
   "version": "3.10.10"
  }
 },
 "nbformat": 4,
 "nbformat_minor": 2
}
