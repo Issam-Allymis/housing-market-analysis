{
  "cells": [
    {
      "cell_type": "markdown",
      "metadata": {
        "id": "0aStgWSO0E0E"
      },
      "source": [
        "# **Data Collection**"
      ]
    },
    {
      "cell_type": "markdown",
      "metadata": {
        "id": "1eLEkw5O0ECa"
      },
      "source": [
        "## Objectives\n",
        "\n",
        "* Upload dataset file into explorer panel.\n",
        "* Inspect the data and save it under ../house-price-20211124T154130Z-001\n",
        "\n",
        "## Inputs\n",
        "\n",
        "* Extract file through terminal, using command 'unzip file_name.zip' \n",
        "\n",
        "## Outputs\n",
        "\n",
        "* Archive:  archive.zip\n",
        "  inflating: house-metadata.txt      \n",
        "  inflating: house-price-20211124T154130Z-001/house-price/house_prices_records.csv  \n",
        "  inflating: house-price-20211124T154130Z-001/house-price/inherited_houses.csv  \n",
        "\n",
        "## Additional Comments\n",
        "\n",
        "* In case you have any additional comments that don't fit in the previous bullets, please state them here. \n"
      ]
    },
    {
      "cell_type": "markdown",
      "metadata": {},
      "source": [
        "# Change working directory\n",
        "We need to change the working directory from its current folder to its parent folder\n",
        "\n",
        "We access the current directory with os.getcwd()"
      ]
    },
    {
      "cell_type": "code",
      "execution_count": 1,
      "metadata": {},
      "outputs": [
        {
          "data": {
            "text/plain": [
              "'/workspace/housing-market-analysis/jupyter_notebooks'"
            ]
          },
          "execution_count": 1,
          "metadata": {},
          "output_type": "execute_result"
        }
      ],
      "source": [
        "import os\n",
        "current_dir = os.getcwd()\n",
        "current_dir"
      ]
    },
    {
      "cell_type": "code",
      "execution_count": 2,
      "metadata": {},
      "outputs": [
        {
          "name": "stdout",
          "output_type": "stream",
          "text": [
            "You set a new current directory\n"
          ]
        }
      ],
      "source": [
        "os.chdir(os.path.dirname(current_dir))\n",
        "print(\"You set a new current directory\")"
      ]
    },
    {
      "cell_type": "code",
      "execution_count": 3,
      "metadata": {},
      "outputs": [
        {
          "data": {
            "text/plain": [
              "'/workspace/housing-market-analysis'"
            ]
          },
          "execution_count": 3,
          "metadata": {},
          "output_type": "execute_result"
        }
      ],
      "source": [
        "current_dir = os.getcwd()\n",
        "current_dir"
      ]
    },
    {
      "cell_type": "markdown",
      "metadata": {
        "id": "9uWZXH9LwoQg"
      },
      "source": [
        "---"
      ]
    },
    {
      "cell_type": "markdown",
      "metadata": {
        "id": "cqP-UeN-z3i2"
      },
      "source": [
        "# Import Packages"
      ]
    },
    {
      "cell_type": "markdown",
      "metadata": {},
      "source": [
        "* Import packages using the 'import' statement followed by the name of the package. For example, 'import pandas' which is commonly used for data manipulation and analysis. This is  followed by and alias of your choice, preferably as pd although it is arbitrary."
      ]
    },
    {
      "cell_type": "code",
      "execution_count": 4,
      "metadata": {
        "id": "wZfF_j-Bz3i4",
        "outputId": "66943449-1436-4c3d-85c7-b85f9f78349b"
      },
      "outputs": [],
      "source": [
        "# import packages\n",
        "import pandas as pd\n",
        "import numpy as np\n",
        "import matplotlib.pyplot as plt\n",
        "import seaborn as sns\n"
      ]
    },
    {
      "cell_type": "markdown",
      "metadata": {
        "id": "9MWW8E7lz3i7"
      },
      "source": [
        "Load the dataset using the pandas method '.read_csv', and sample it to retrieve only 20% of the dataframe, ensuring reproducibility by specifying a random_state. Then, use the 'shape()' method to analyze the number of rows and columns in the dataset."
      ]
    },
    {
      "cell_type": "code",
      "execution_count": 5,
      "metadata": {
        "id": "TwHsQRWjz3i9",
        "outputId": "86849db3-cd2f-4cc5-ebb8-2d0caafa1a2c"
      },
      "outputs": [
        {
          "name": "stdout",
          "output_type": "stream",
          "text": [
            "(292, 24)\n"
          ]
        },
        {
          "data": {
            "text/html": [
              "<div>\n",
              "<style scoped>\n",
              "    .dataframe tbody tr th:only-of-type {\n",
              "        vertical-align: middle;\n",
              "    }\n",
              "\n",
              "    .dataframe tbody tr th {\n",
              "        vertical-align: top;\n",
              "    }\n",
              "\n",
              "    .dataframe thead th {\n",
              "        text-align: right;\n",
              "    }\n",
              "</style>\n",
              "<table border=\"1\" class=\"dataframe\">\n",
              "  <thead>\n",
              "    <tr style=\"text-align: right;\">\n",
              "      <th></th>\n",
              "      <th>1stFlrSF</th>\n",
              "      <th>2ndFlrSF</th>\n",
              "      <th>BedroomAbvGr</th>\n",
              "      <th>BsmtExposure</th>\n",
              "      <th>BsmtFinSF1</th>\n",
              "      <th>BsmtFinType1</th>\n",
              "      <th>BsmtUnfSF</th>\n",
              "      <th>EnclosedPorch</th>\n",
              "      <th>GarageArea</th>\n",
              "      <th>GarageFinish</th>\n",
              "      <th>...</th>\n",
              "      <th>LotFrontage</th>\n",
              "      <th>MasVnrArea</th>\n",
              "      <th>OpenPorchSF</th>\n",
              "      <th>OverallCond</th>\n",
              "      <th>OverallQual</th>\n",
              "      <th>TotalBsmtSF</th>\n",
              "      <th>WoodDeckSF</th>\n",
              "      <th>YearBuilt</th>\n",
              "      <th>YearRemodAdd</th>\n",
              "      <th>SalePrice</th>\n",
              "    </tr>\n",
              "  </thead>\n",
              "  <tbody>\n",
              "    <tr>\n",
              "      <th>1054</th>\n",
              "      <td>1091</td>\n",
              "      <td>898.0</td>\n",
              "      <td>3.0</td>\n",
              "      <td>Mn</td>\n",
              "      <td>932</td>\n",
              "      <td>GLQ</td>\n",
              "      <td>133</td>\n",
              "      <td>NaN</td>\n",
              "      <td>586</td>\n",
              "      <td>Fin</td>\n",
              "      <td>...</td>\n",
              "      <td>90.0</td>\n",
              "      <td>210.0</td>\n",
              "      <td>60</td>\n",
              "      <td>5</td>\n",
              "      <td>8</td>\n",
              "      <td>1065</td>\n",
              "      <td>NaN</td>\n",
              "      <td>2002</td>\n",
              "      <td>2002</td>\n",
              "      <td>255000</td>\n",
              "    </tr>\n",
              "    <tr>\n",
              "      <th>361</th>\n",
              "      <td>988</td>\n",
              "      <td>517.0</td>\n",
              "      <td>3.0</td>\n",
              "      <td>No</td>\n",
              "      <td>399</td>\n",
              "      <td>Rec</td>\n",
              "      <td>484</td>\n",
              "      <td>NaN</td>\n",
              "      <td>240</td>\n",
              "      <td>NaN</td>\n",
              "      <td>...</td>\n",
              "      <td>NaN</td>\n",
              "      <td>0.0</td>\n",
              "      <td>0</td>\n",
              "      <td>5</td>\n",
              "      <td>5</td>\n",
              "      <td>883</td>\n",
              "      <td>NaN</td>\n",
              "      <td>1940</td>\n",
              "      <td>1982</td>\n",
              "      <td>145000</td>\n",
              "    </tr>\n",
              "    <tr>\n",
              "      <th>1282</th>\n",
              "      <td>1040</td>\n",
              "      <td>0.0</td>\n",
              "      <td>3.0</td>\n",
              "      <td>Mn</td>\n",
              "      <td>532</td>\n",
              "      <td>LwQ</td>\n",
              "      <td>364</td>\n",
              "      <td>NaN</td>\n",
              "      <td>484</td>\n",
              "      <td>Unf</td>\n",
              "      <td>...</td>\n",
              "      <td>61.0</td>\n",
              "      <td>0.0</td>\n",
              "      <td>0</td>\n",
              "      <td>7</td>\n",
              "      <td>5</td>\n",
              "      <td>1040</td>\n",
              "      <td>NaN</td>\n",
              "      <td>1977</td>\n",
              "      <td>2008</td>\n",
              "      <td>150500</td>\n",
              "    </tr>\n",
              "    <tr>\n",
              "      <th>161</th>\n",
              "      <td>1572</td>\n",
              "      <td>1096.0</td>\n",
              "      <td>3.0</td>\n",
              "      <td>Av</td>\n",
              "      <td>1016</td>\n",
              "      <td>GLQ</td>\n",
              "      <td>556</td>\n",
              "      <td>NaN</td>\n",
              "      <td>726</td>\n",
              "      <td>Fin</td>\n",
              "      <td>...</td>\n",
              "      <td>110.0</td>\n",
              "      <td>664.0</td>\n",
              "      <td>0</td>\n",
              "      <td>5</td>\n",
              "      <td>9</td>\n",
              "      <td>1572</td>\n",
              "      <td>NaN</td>\n",
              "      <td>2003</td>\n",
              "      <td>2004</td>\n",
              "      <td>412500</td>\n",
              "    </tr>\n",
              "    <tr>\n",
              "      <th>515</th>\n",
              "      <td>2020</td>\n",
              "      <td>0.0</td>\n",
              "      <td>3.0</td>\n",
              "      <td>No</td>\n",
              "      <td>1436</td>\n",
              "      <td>GLQ</td>\n",
              "      <td>570</td>\n",
              "      <td>NaN</td>\n",
              "      <td>900</td>\n",
              "      <td>Fin</td>\n",
              "      <td>...</td>\n",
              "      <td>94.0</td>\n",
              "      <td>305.0</td>\n",
              "      <td>54</td>\n",
              "      <td>5</td>\n",
              "      <td>10</td>\n",
              "      <td>2006</td>\n",
              "      <td>NaN</td>\n",
              "      <td>2009</td>\n",
              "      <td>2009</td>\n",
              "      <td>402861</td>\n",
              "    </tr>\n",
              "  </tbody>\n",
              "</table>\n",
              "<p>5 rows × 24 columns</p>\n",
              "</div>"
            ],
            "text/plain": [
              "      1stFlrSF  2ndFlrSF  BedroomAbvGr BsmtExposure  BsmtFinSF1 BsmtFinType1  \\\n",
              "1054      1091     898.0           3.0           Mn         932          GLQ   \n",
              "361        988     517.0           3.0           No         399          Rec   \n",
              "1282      1040       0.0           3.0           Mn         532          LwQ   \n",
              "161       1572    1096.0           3.0           Av        1016          GLQ   \n",
              "515       2020       0.0           3.0           No        1436          GLQ   \n",
              "\n",
              "      BsmtUnfSF  EnclosedPorch  GarageArea GarageFinish  ...  LotFrontage  \\\n",
              "1054        133            NaN         586          Fin  ...         90.0   \n",
              "361         484            NaN         240          NaN  ...          NaN   \n",
              "1282        364            NaN         484          Unf  ...         61.0   \n",
              "161         556            NaN         726          Fin  ...        110.0   \n",
              "515         570            NaN         900          Fin  ...         94.0   \n",
              "\n",
              "      MasVnrArea OpenPorchSF  OverallCond  OverallQual  TotalBsmtSF  \\\n",
              "1054       210.0          60            5            8         1065   \n",
              "361          0.0           0            5            5          883   \n",
              "1282         0.0           0            7            5         1040   \n",
              "161        664.0           0            5            9         1572   \n",
              "515        305.0          54            5           10         2006   \n",
              "\n",
              "      WoodDeckSF  YearBuilt  YearRemodAdd  SalePrice  \n",
              "1054         NaN       2002          2002     255000  \n",
              "361          NaN       1940          1982     145000  \n",
              "1282         NaN       1977          2008     150500  \n",
              "161          NaN       2003          2004     412500  \n",
              "515          NaN       2009          2009     402861  \n",
              "\n",
              "[5 rows x 24 columns]"
            ]
          },
          "execution_count": 5,
          "metadata": {},
          "output_type": "execute_result"
        }
      ],
      "source": [
        "# Load dataset\n",
        "df = pd.read_csv(\"/workspace/housing-market-analysis/house-price-20211124T154130Z-001/house-price/house_prices_records.csv\")\n",
        "df = df.sample(frac=0.2, random_state=101)\n",
        "print(df.shape)\n",
        "df.head(5)"
      ]
    },
    {
      "cell_type": "markdown",
      "metadata": {
        "id": "M_xPk_Ijz3i-"
      },
      "source": [
        "* DataFrame information"
      ]
    },
    {
      "cell_type": "code",
      "execution_count": 6,
      "metadata": {
        "id": "vz3S-_kjz3jA",
        "outputId": "00b79ae4-75d0-4a96-d193-ac9ef9847ea2"
      },
      "outputs": [
        {
          "data": {
            "text/plain": [
              "dtype('O')"
            ]
          },
          "execution_count": 6,
          "metadata": {},
          "output_type": "execute_result"
        }
      ],
      "source": [
        "df.dtypes['WoodDeckSF']\n",
        "df.dtypes['BsmtExposure']"
      ]
    },
    {
      "cell_type": "code",
      "execution_count": 7,
      "metadata": {},
      "outputs": [
        {
          "data": {
            "text/plain": [
              "1stFlrSF           0\n",
              "2ndFlrSF          16\n",
              "BedroomAbvGr      18\n",
              "BsmtExposure       0\n",
              "BsmtFinSF1         0\n",
              "BsmtFinType1      25\n",
              "BsmtUnfSF          0\n",
              "EnclosedPorch    270\n",
              "GarageArea         0\n",
              "GarageFinish      31\n",
              "GarageYrBlt       16\n",
              "GrLivArea          0\n",
              "KitchenQual        0\n",
              "LotArea            0\n",
              "LotFrontage       45\n",
              "MasVnrArea         0\n",
              "OpenPorchSF        0\n",
              "OverallCond        0\n",
              "OverallQual        0\n",
              "TotalBsmtSF        0\n",
              "WoodDeckSF       269\n",
              "YearBuilt          0\n",
              "YearRemodAdd       0\n",
              "SalePrice          0\n",
              "dtype: int64"
            ]
          },
          "execution_count": 7,
          "metadata": {},
          "output_type": "execute_result"
        }
      ],
      "source": [
        "df['WoodDeckSF'].fillna(0.0)\n",
        "df.isnull().sum()"
      ]
    },
    {
      "cell_type": "markdown",
      "metadata": {
        "id": "-mavJ8DibrcQ"
      },
      "source": [
        "# Section 1"
      ]
    },
    {
      "cell_type": "markdown",
      "metadata": {},
      "source": [
        "* Using feature_engine to replace all numeical & categorical missing data\n",
        "* Using sklearn.preprocessing to scale all the numerical variables"
      ]
    },
    {
      "cell_type": "code",
      "execution_count": 8,
      "metadata": {},
      "outputs": [],
      "source": [
        "from sklearn.impute import SimpleImputer\n",
        "from feature_engine.imputation import MeanMedianImputer\n",
        "from sklearn.preprocessing import StandardScaler\n",
        "\n",
        "# Identify missing values\n",
        "missing_values = df.isnull().sum()\n",
        "\n",
        "# Separate columns by data type\n",
        "numeric_cols = df.select_dtypes(include=['int', 'float']).columns\n",
        "categorical_cols = df.select_dtypes(include=['object', 'category']).columns\n",
        "\n",
        "# Impute missing values for numeric columns using median\n",
        "numeric_imputer = MeanMedianImputer(imputation_method='median')\n",
        "df[numeric_cols] = numeric_imputer.fit_transform(df[numeric_cols])\n",
        "\n",
        "# Impute missing values for categorical columns using most frequent\n",
        "categorical_imputer = SimpleImputer(strategy='most_frequent')\n",
        "df[categorical_cols] = categorical_imputer.fit_transform(df[categorical_cols])\n",
        "\n",
        "\n"
      ]
    },
    {
      "cell_type": "markdown",
      "metadata": {},
      "source": [
        "# Heatmap\n",
        "I used a heatmap to visualize all the numerical variables in the dataset and gain insight into which features correlate the most and which correlate the least."
      ]
    },
    {
      "cell_type": "code",
      "execution_count": 17,
      "metadata": {},
      "outputs": [
        {
          "data": {
            "image/png": "[encoded data removed]",
            "text/plain": [
              "<Figure size 1500x800 with 2 Axes>"
            ]
          },
          "metadata": {},
          "output_type": "display_data"
        }
      ],
      "source": [
        "plt.figure(figsize=(15, 8))\n",
        "corr_matrix = df[numeric_cols].corr()\n",
        "sns.heatmap(corr_matrix, cmap='YlGnBu', annot=True, fmt=\".2f\", annot_kws={\"size\": 8.5})\n",
        "plt.show()\n"
      ]
    },
    {
      "cell_type": "markdown",
      "metadata": {},
      "source": [
        "---"
      ]
    },
    {
      "cell_type": "markdown",
      "metadata": {},
      "source": [
        "* All missing columns have been filled in "
      ]
    },
    {
      "cell_type": "code",
      "execution_count": 10,
      "metadata": {},
      "outputs": [
        {
          "data": {
            "text/html": [
              "<div>\n",
              "<style scoped>\n",
              "    .dataframe tbody tr th:only-of-type {\n",
              "        vertical-align: middle;\n",
              "    }\n",
              "\n",
              "    .dataframe tbody tr th {\n",
              "        vertical-align: top;\n",
              "    }\n",
              "\n",
              "    .dataframe thead th {\n",
              "        text-align: right;\n",
              "    }\n",
              "</style>\n",
              "<table border=\"1\" class=\"dataframe\">\n",
              "  <thead>\n",
              "    <tr style=\"text-align: right;\">\n",
              "      <th></th>\n",
              "      <th>1stFlrSF</th>\n",
              "      <th>2ndFlrSF</th>\n",
              "      <th>BedroomAbvGr</th>\n",
              "      <th>BsmtExposure</th>\n",
              "      <th>BsmtFinSF1</th>\n",
              "      <th>BsmtFinType1</th>\n",
              "      <th>BsmtUnfSF</th>\n",
              "      <th>EnclosedPorch</th>\n",
              "      <th>GarageArea</th>\n",
              "      <th>GarageFinish</th>\n",
              "      <th>...</th>\n",
              "      <th>LotFrontage</th>\n",
              "      <th>MasVnrArea</th>\n",
              "      <th>OpenPorchSF</th>\n",
              "      <th>OverallCond</th>\n",
              "      <th>OverallQual</th>\n",
              "      <th>TotalBsmtSF</th>\n",
              "      <th>WoodDeckSF</th>\n",
              "      <th>YearBuilt</th>\n",
              "      <th>YearRemodAdd</th>\n",
              "      <th>SalePrice</th>\n",
              "    </tr>\n",
              "  </thead>\n",
              "  <tbody>\n",
              "    <tr>\n",
              "      <th>1054</th>\n",
              "      <td>1091</td>\n",
              "      <td>898.0</td>\n",
              "      <td>3.0</td>\n",
              "      <td>Mn</td>\n",
              "      <td>932</td>\n",
              "      <td>GLQ</td>\n",
              "      <td>133</td>\n",
              "      <td>0.0</td>\n",
              "      <td>586</td>\n",
              "      <td>Fin</td>\n",
              "      <td>...</td>\n",
              "      <td>90.0</td>\n",
              "      <td>210.0</td>\n",
              "      <td>60</td>\n",
              "      <td>5</td>\n",
              "      <td>8</td>\n",
              "      <td>1065</td>\n",
              "      <td>0.0</td>\n",
              "      <td>2002</td>\n",
              "      <td>2002</td>\n",
              "      <td>255000</td>\n",
              "    </tr>\n",
              "    <tr>\n",
              "      <th>361</th>\n",
              "      <td>988</td>\n",
              "      <td>517.0</td>\n",
              "      <td>3.0</td>\n",
              "      <td>No</td>\n",
              "      <td>399</td>\n",
              "      <td>Rec</td>\n",
              "      <td>484</td>\n",
              "      <td>0.0</td>\n",
              "      <td>240</td>\n",
              "      <td>Unf</td>\n",
              "      <td>...</td>\n",
              "      <td>66.0</td>\n",
              "      <td>0.0</td>\n",
              "      <td>0</td>\n",
              "      <td>5</td>\n",
              "      <td>5</td>\n",
              "      <td>883</td>\n",
              "      <td>0.0</td>\n",
              "      <td>1940</td>\n",
              "      <td>1982</td>\n",
              "      <td>145000</td>\n",
              "    </tr>\n",
              "    <tr>\n",
              "      <th>1282</th>\n",
              "      <td>1040</td>\n",
              "      <td>0.0</td>\n",
              "      <td>3.0</td>\n",
              "      <td>Mn</td>\n",
              "      <td>532</td>\n",
              "      <td>LwQ</td>\n",
              "      <td>364</td>\n",
              "      <td>0.0</td>\n",
              "      <td>484</td>\n",
              "      <td>Unf</td>\n",
              "      <td>...</td>\n",
              "      <td>61.0</td>\n",
              "      <td>0.0</td>\n",
              "      <td>0</td>\n",
              "      <td>7</td>\n",
              "      <td>5</td>\n",
              "      <td>1040</td>\n",
              "      <td>0.0</td>\n",
              "      <td>1977</td>\n",
              "      <td>2008</td>\n",
              "      <td>150500</td>\n",
              "    </tr>\n",
              "    <tr>\n",
              "      <th>161</th>\n",
              "      <td>1572</td>\n",
              "      <td>1096.0</td>\n",
              "      <td>3.0</td>\n",
              "      <td>Av</td>\n",
              "      <td>1016</td>\n",
              "      <td>GLQ</td>\n",
              "      <td>556</td>\n",
              "      <td>0.0</td>\n",
              "      <td>726</td>\n",
              "      <td>Fin</td>\n",
              "      <td>...</td>\n",
              "      <td>110.0</td>\n",
              "      <td>664.0</td>\n",
              "      <td>0</td>\n",
              "      <td>5</td>\n",
              "      <td>9</td>\n",
              "      <td>1572</td>\n",
              "      <td>0.0</td>\n",
              "      <td>2003</td>\n",
              "      <td>2004</td>\n",
              "      <td>412500</td>\n",
              "    </tr>\n",
              "    <tr>\n",
              "      <th>515</th>\n",
              "      <td>2020</td>\n",
              "      <td>0.0</td>\n",
              "      <td>3.0</td>\n",
              "      <td>No</td>\n",
              "      <td>1436</td>\n",
              "      <td>GLQ</td>\n",
              "      <td>570</td>\n",
              "      <td>0.0</td>\n",
              "      <td>900</td>\n",
              "      <td>Fin</td>\n",
              "      <td>...</td>\n",
              "      <td>94.0</td>\n",
              "      <td>305.0</td>\n",
              "      <td>54</td>\n",
              "      <td>5</td>\n",
              "      <td>10</td>\n",
              "      <td>2006</td>\n",
              "      <td>0.0</td>\n",
              "      <td>2009</td>\n",
              "      <td>2009</td>\n",
              "      <td>402861</td>\n",
              "    </tr>\n",
              "  </tbody>\n",
              "</table>\n",
              "<p>5 rows × 24 columns</p>\n",
              "</div>"
            ],
            "text/plain": [
              "      1stFlrSF  2ndFlrSF  BedroomAbvGr BsmtExposure  BsmtFinSF1 BsmtFinType1  \\\n",
              "1054      1091     898.0           3.0           Mn         932          GLQ   \n",
              "361        988     517.0           3.0           No         399          Rec   \n",
              "1282      1040       0.0           3.0           Mn         532          LwQ   \n",
              "161       1572    1096.0           3.0           Av        1016          GLQ   \n",
              "515       2020       0.0           3.0           No        1436          GLQ   \n",
              "\n",
              "      BsmtUnfSF  EnclosedPorch  GarageArea GarageFinish  ...  LotFrontage  \\\n",
              "1054        133            0.0         586          Fin  ...         90.0   \n",
              "361         484            0.0         240          Unf  ...         66.0   \n",
              "1282        364            0.0         484          Unf  ...         61.0   \n",
              "161         556            0.0         726          Fin  ...        110.0   \n",
              "515         570            0.0         900          Fin  ...         94.0   \n",
              "\n",
              "      MasVnrArea OpenPorchSF  OverallCond  OverallQual  TotalBsmtSF  \\\n",
              "1054       210.0          60            5            8         1065   \n",
              "361          0.0           0            5            5          883   \n",
              "1282         0.0           0            7            5         1040   \n",
              "161        664.0           0            5            9         1572   \n",
              "515        305.0          54            5           10         2006   \n",
              "\n",
              "      WoodDeckSF  YearBuilt  YearRemodAdd  SalePrice  \n",
              "1054         0.0       2002          2002     255000  \n",
              "361          0.0       1940          1982     145000  \n",
              "1282         0.0       1977          2008     150500  \n",
              "161          0.0       2003          2004     412500  \n",
              "515          0.0       2009          2009     402861  \n",
              "\n",
              "[5 rows x 24 columns]"
            ]
          },
          "execution_count": 10,
          "metadata": {},
          "output_type": "execute_result"
        }
      ],
      "source": [
        "df.head()"
      ]
    },
    {
      "cell_type": "markdown",
      "metadata": {},
      "source": [
        "NOTE"
      ]
    },
    {
      "cell_type": "markdown",
      "metadata": {},
      "source": [
        "* You may add as many sections as you want, as long as they support your project workflow.\n",
        "* All notebook's cells should be run top-down (you can't create a dynamic wherein a given point you need to go back to a previous cell to execute some task, like go back to a previous cell and refresh a variable content)"
      ]
    },
    {
      "cell_type": "markdown",
      "metadata": {},
      "source": [
        "---"
      ]
    },
    {
      "cell_type": "markdown",
      "metadata": {
        "id": "ltNetd085qHf"
      },
      "source": [
        "# Push files to Repo"
      ]
    },
    {
      "cell_type": "markdown",
      "metadata": {},
      "source": [
        "* If you do not need to push files to Repo, you may replace this section with \"Conclusions and Next Steps\" and state your conclusions and next steps."
      ]
    },
    {
      "cell_type": "code",
      "execution_count": 11,
      "metadata": {
        "id": "aKlnIozA4eQO",
        "outputId": "fd09bc1f-adb1-4511-f6ce-492a6af570c0"
      },
      "outputs": [
        {
          "name": "stdout",
          "output_type": "stream",
          "text": [
            "[Errno 17] File exists: 'outputs/datasets/collection'\n"
          ]
        }
      ],
      "source": [
        "import os\n",
        "try:\n",
        "  os.makedirs(name='outputs/datasets/collection') # create outputs/datasets/collection folder\n",
        "except Exception as e:\n",
        "  print(e)\n",
        "\n",
        "df.to_csv(f\"outputs/datasets/collection/house-price-2021.csv\",index=False)\n"
      ]
    }
  ],
  "metadata": {
    "accelerator": "GPU",
    "colab": {
      "name": "Data Practitioner Jupyter Notebook.ipynb",
      "provenance": [],
      "toc_visible": true
    },
    "interpreter": {
      "hash": "8b8334dab9339717f727a1deaf837b322d7a41c20d15cc86be99a8e69ceec8ce"
    },
    "kernelspec": {
      "display_name": "Python 3.8.12 64-bit ('3.8.12': pyenv)",
      "name": "python3"
    },
    "language_info": {
      "codemirror_mode": {
        "name": "ipython",
        "version": 3
      },
      "file_extension": ".py",
      "mimetype": "text/x-python",
      "name": "python",
      "nbconvert_exporter": "python",
      "pygments_lexer": "ipython3",
      "version": "3.10.10"
    },
    "orig_nbformat": 2
  },
  "nbformat": 4,
  "nbformat_minor": 2
}
